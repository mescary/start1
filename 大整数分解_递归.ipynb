{
  "nbformat": 4,
  "nbformat_minor": 0,
  "metadata": {
    "colab": {
      "name": "大整数分解_递归.ipynb",
      "version": "0.3.2",
      "provenance": [],
      "collapsed_sections": [],
      "include_colab_link": true
    },
    "kernelspec": {
      "name": "python3",
      "display_name": "Python 3"
    }
  },
  "cells": [
    {
      "cell_type": "markdown",
      "metadata": {
        "id": "view-in-github",
        "colab_type": "text"
      },
      "source": [
        "<a href=\"https://colab.research.google.com/github/mescary/start1/blob/master/%E5%A4%A7%E6%95%B4%E6%95%B0%E5%88%86%E8%A7%A3_%E9%80%92%E5%BD%92.ipynb\" target=\"_parent\"><img src=\"https://colab.research.google.com/assets/colab-badge.svg\" alt=\"Open In Colab\"/></a>"
      ]
    },
    {
      "cell_type": "code",
      "metadata": {
        "id": "kt6MFkooXTsv",
        "colab_type": "code",
        "colab": {
          "base_uri": "https://localhost:8080/",
          "height": 35
        },
        "outputId": "67f57a8e-4ed0-4ba2-e1e2-c053067c3d51"
      },
      "source": [
        "import math\n",
        "def fenjie(s):\n",
        "\tfor x in range (2,int(math.sqrt(s))+2):\n",
        "\t\tif x==int(math.sqrt(s))+1:\n",
        "\t\t\treturn [s]\n",
        "\t\telse:\n",
        "\t\t\tif s%x==0:\n",
        "\t\t\t\treturn [x]+fenjie(int(s/x))\n",
        "\n",
        "print(fenjie(15646118146113))"
      ],
      "execution_count": 9,
      "outputs": [
        {
          "output_type": "stream",
          "text": [
            "[3, 7, 13, 19, 103, 1451, 20183]\n"
          ],
          "name": "stdout"
        }
      ]
    },
    {
      "cell_type": "code",
      "metadata": {
        "id": "Ld6j8HxwXVG8",
        "colab_type": "code",
        "colab": {}
      },
      "source": [
        ""
      ],
      "execution_count": 0,
      "outputs": []
    }
  ]
}